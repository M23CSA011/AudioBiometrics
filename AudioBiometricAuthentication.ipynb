{
  "cells": [
    {
      "cell_type": "code",
      "execution_count": 199,
      "metadata": {
        "id": "rhidRffoK-QT"
      },
      "outputs": [],
      "source": [
        "import numpy as np\n",
        "import librosa\n",
        "import os\n",
        "import pandas as pd\n",
        "import pickle\n",
        "from sklearn.preprocessing import StandardScaler\n",
        "from sklearn.naive_bayes import GaussianNB\n",
        "from sklearn.linear_model import SGDClassifier, LogisticRegression\n",
        "from sklearn.neighbors import KNeighborsClassifier\n",
        "from sklearn.tree import DecisionTreeClassifier\n",
        "from sklearn.ensemble import RandomForestClassifier\n",
        "from sklearn.svm import SVC\n",
        "from sklearn.neural_network import MLPClassifier\n",
        "from sklearn.metrics import accuracy_score\n",
        "from sklearn import preprocessing\n",
        "from sklearn.model_selection import train_test_split\n",
        "import torch\n",
        "import torchaudio\n",
        "import torchaudio.transforms as transforms\n",
        "import pandas as pd\n",
        "import os\n",
        "from sklearn.feature_selection import VarianceThreshold\n",
        "from sklearn.decomposition import PCA\n",
        "import tarfile"
      ]
    },
    {
      "cell_type": "code",
      "execution_count": 200,
      "metadata": {
        "colab": {
          "base_uri": "https://localhost:8080/"
        },
        "id": "xes5_cbXBMic",
        "outputId": "ec2a8828-afdd-42c1-c5cf-9362f19f5efa"
      },
      "outputs": [
        {
          "output_type": "stream",
          "name": "stdout",
          "text": [
            "Drive already mounted at /content/drive; to attempt to forcibly remount, call drive.mount(\"/content/drive\", force_remount=True).\n"
          ]
        }
      ],
      "source": [
        "from google.colab import drive\n",
        "drive.mount('/content/drive')"
      ]
    },
    {
      "cell_type": "markdown",
      "source": [
        "Extract Dataset"
      ],
      "metadata": {
        "id": "LdwpiOnuW8NO"
      }
    },
    {
      "cell_type": "code",
      "execution_count": null,
      "metadata": {
        "id": "wHqN0ZtDTiYE"
      },
      "outputs": [],
      "source": [
        "def extract_tarfile(file_path, destination_path):\n",
        "    with tarfile.open(file_path, 'r') as tar:\n",
        "        tar.extractall(destination_path)\n",
        "\n",
        "# Example usage\n",
        "tar_file_path = '/content/drive/MyDrive/svarah.tar'\n",
        "extract_to_directory = 'svarah'\n",
        "\n",
        "extract_tarfile(tar_file_path, extract_to_directory)"
      ]
    },
    {
      "cell_type": "markdown",
      "source": [
        "Visualize Data"
      ],
      "metadata": {
        "id": "HKaXnYOFXAJn"
      }
    },
    {
      "cell_type": "code",
      "execution_count": 202,
      "metadata": {
        "colab": {
          "base_uri": "https://localhost:8080/",
          "height": 330
        },
        "id": "ugsL4uygUU2W",
        "outputId": "723957aa-96a5-466e-d7d3-d2429c3a3d85"
      },
      "outputs": [
        {
          "output_type": "execute_result",
          "data": {
            "text/plain": [
              "                            audio_filepath  duration  text  gender age-group  \\\n",
              "0    audio/281474976895472_f74_chunk_0.wav  0.098000    Up  Female     30-45   \n",
              "1  audio/281474976899770_f1412_chunk_0.wav  0.126625  Skip  Female     30-45   \n",
              "2  audio/281474976903881_f1632_chunk_0.wav  0.135313    Up  Female     45-60   \n",
              "3  audio/281474976895472_f2996_chunk_0.wav  0.156438    Up  Female     30-45   \n",
              "4   audio/281474976899939_f968_chunk_0.wav  0.158750  Skip    Male     30-45   \n",
              "\n",
              "  primary_language native_place_state native_place_district  \\\n",
              "0             Urdu          Karnataka       Bangalore Urban   \n",
              "1             Odia             Odisha               Cuttack   \n",
              "2           Nepali              Assam                Kamrup   \n",
              "3             Urdu          Karnataka       Bangalore Urban   \n",
              "4         Maithili              Bihar            Samastipur   \n",
              "\n",
              "            highest_qualification job_category  \\\n",
              "0                   Post Graduate    Part Time   \n",
              "1                        Graduate        Other   \n",
              "2                        Graduate    Full Time   \n",
              "3                   Post Graduate    Part Time   \n",
              "4  Doctoral (PhD) or higher level    Full Time   \n",
              "\n",
              "                   occupation_domain  \n",
              "0             Education and Research  \n",
              "1  Healthcare (Medical &amp; Pharma)  \n",
              "2             Education and Research  \n",
              "3             Education and Research  \n",
              "4             Education and Research  "
            ],
            "text/html": [
              "\n",
              "  <div id=\"df-3fb370b3-e8b0-4418-9599-c307cec036ed\" class=\"colab-df-container\">\n",
              "    <div>\n",
              "<style scoped>\n",
              "    .dataframe tbody tr th:only-of-type {\n",
              "        vertical-align: middle;\n",
              "    }\n",
              "\n",
              "    .dataframe tbody tr th {\n",
              "        vertical-align: top;\n",
              "    }\n",
              "\n",
              "    .dataframe thead th {\n",
              "        text-align: right;\n",
              "    }\n",
              "</style>\n",
              "<table border=\"1\" class=\"dataframe\">\n",
              "  <thead>\n",
              "    <tr style=\"text-align: right;\">\n",
              "      <th></th>\n",
              "      <th>audio_filepath</th>\n",
              "      <th>duration</th>\n",
              "      <th>text</th>\n",
              "      <th>gender</th>\n",
              "      <th>age-group</th>\n",
              "      <th>primary_language</th>\n",
              "      <th>native_place_state</th>\n",
              "      <th>native_place_district</th>\n",
              "      <th>highest_qualification</th>\n",
              "      <th>job_category</th>\n",
              "      <th>occupation_domain</th>\n",
              "    </tr>\n",
              "  </thead>\n",
              "  <tbody>\n",
              "    <tr>\n",
              "      <th>0</th>\n",
              "      <td>audio/281474976895472_f74_chunk_0.wav</td>\n",
              "      <td>0.098000</td>\n",
              "      <td>Up</td>\n",
              "      <td>Female</td>\n",
              "      <td>30-45</td>\n",
              "      <td>Urdu</td>\n",
              "      <td>Karnataka</td>\n",
              "      <td>Bangalore Urban</td>\n",
              "      <td>Post Graduate</td>\n",
              "      <td>Part Time</td>\n",
              "      <td>Education and Research</td>\n",
              "    </tr>\n",
              "    <tr>\n",
              "      <th>1</th>\n",
              "      <td>audio/281474976899770_f1412_chunk_0.wav</td>\n",
              "      <td>0.126625</td>\n",
              "      <td>Skip</td>\n",
              "      <td>Female</td>\n",
              "      <td>30-45</td>\n",
              "      <td>Odia</td>\n",
              "      <td>Odisha</td>\n",
              "      <td>Cuttack</td>\n",
              "      <td>Graduate</td>\n",
              "      <td>Other</td>\n",
              "      <td>Healthcare (Medical &amp;amp; Pharma)</td>\n",
              "    </tr>\n",
              "    <tr>\n",
              "      <th>2</th>\n",
              "      <td>audio/281474976903881_f1632_chunk_0.wav</td>\n",
              "      <td>0.135313</td>\n",
              "      <td>Up</td>\n",
              "      <td>Female</td>\n",
              "      <td>45-60</td>\n",
              "      <td>Nepali</td>\n",
              "      <td>Assam</td>\n",
              "      <td>Kamrup</td>\n",
              "      <td>Graduate</td>\n",
              "      <td>Full Time</td>\n",
              "      <td>Education and Research</td>\n",
              "    </tr>\n",
              "    <tr>\n",
              "      <th>3</th>\n",
              "      <td>audio/281474976895472_f2996_chunk_0.wav</td>\n",
              "      <td>0.156438</td>\n",
              "      <td>Up</td>\n",
              "      <td>Female</td>\n",
              "      <td>30-45</td>\n",
              "      <td>Urdu</td>\n",
              "      <td>Karnataka</td>\n",
              "      <td>Bangalore Urban</td>\n",
              "      <td>Post Graduate</td>\n",
              "      <td>Part Time</td>\n",
              "      <td>Education and Research</td>\n",
              "    </tr>\n",
              "    <tr>\n",
              "      <th>4</th>\n",
              "      <td>audio/281474976899939_f968_chunk_0.wav</td>\n",
              "      <td>0.158750</td>\n",
              "      <td>Skip</td>\n",
              "      <td>Male</td>\n",
              "      <td>30-45</td>\n",
              "      <td>Maithili</td>\n",
              "      <td>Bihar</td>\n",
              "      <td>Samastipur</td>\n",
              "      <td>Doctoral (PhD) or higher level</td>\n",
              "      <td>Full Time</td>\n",
              "      <td>Education and Research</td>\n",
              "    </tr>\n",
              "  </tbody>\n",
              "</table>\n",
              "</div>\n",
              "    <div class=\"colab-df-buttons\">\n",
              "\n",
              "  <div class=\"colab-df-container\">\n",
              "    <button class=\"colab-df-convert\" onclick=\"convertToInteractive('df-3fb370b3-e8b0-4418-9599-c307cec036ed')\"\n",
              "            title=\"Convert this dataframe to an interactive table.\"\n",
              "            style=\"display:none;\">\n",
              "\n",
              "  <svg xmlns=\"http://www.w3.org/2000/svg\" height=\"24px\" viewBox=\"0 -960 960 960\">\n",
              "    <path d=\"M120-120v-720h720v720H120Zm60-500h600v-160H180v160Zm220 220h160v-160H400v160Zm0 220h160v-160H400v160ZM180-400h160v-160H180v160Zm440 0h160v-160H620v160ZM180-180h160v-160H180v160Zm440 0h160v-160H620v160Z\"/>\n",
              "  </svg>\n",
              "    </button>\n",
              "\n",
              "  <style>\n",
              "    .colab-df-container {\n",
              "      display:flex;\n",
              "      gap: 12px;\n",
              "    }\n",
              "\n",
              "    .colab-df-convert {\n",
              "      background-color: #E8F0FE;\n",
              "      border: none;\n",
              "      border-radius: 50%;\n",
              "      cursor: pointer;\n",
              "      display: none;\n",
              "      fill: #1967D2;\n",
              "      height: 32px;\n",
              "      padding: 0 0 0 0;\n",
              "      width: 32px;\n",
              "    }\n",
              "\n",
              "    .colab-df-convert:hover {\n",
              "      background-color: #E2EBFA;\n",
              "      box-shadow: 0px 1px 2px rgba(60, 64, 67, 0.3), 0px 1px 3px 1px rgba(60, 64, 67, 0.15);\n",
              "      fill: #174EA6;\n",
              "    }\n",
              "\n",
              "    .colab-df-buttons div {\n",
              "      margin-bottom: 4px;\n",
              "    }\n",
              "\n",
              "    [theme=dark] .colab-df-convert {\n",
              "      background-color: #3B4455;\n",
              "      fill: #D2E3FC;\n",
              "    }\n",
              "\n",
              "    [theme=dark] .colab-df-convert:hover {\n",
              "      background-color: #434B5C;\n",
              "      box-shadow: 0px 1px 3px 1px rgba(0, 0, 0, 0.15);\n",
              "      filter: drop-shadow(0px 1px 2px rgba(0, 0, 0, 0.3));\n",
              "      fill: #FFFFFF;\n",
              "    }\n",
              "  </style>\n",
              "\n",
              "    <script>\n",
              "      const buttonEl =\n",
              "        document.querySelector('#df-3fb370b3-e8b0-4418-9599-c307cec036ed button.colab-df-convert');\n",
              "      buttonEl.style.display =\n",
              "        google.colab.kernel.accessAllowed ? 'block' : 'none';\n",
              "\n",
              "      async function convertToInteractive(key) {\n",
              "        const element = document.querySelector('#df-3fb370b3-e8b0-4418-9599-c307cec036ed');\n",
              "        const dataTable =\n",
              "          await google.colab.kernel.invokeFunction('convertToInteractive',\n",
              "                                                    [key], {});\n",
              "        if (!dataTable) return;\n",
              "\n",
              "        const docLinkHtml = 'Like what you see? Visit the ' +\n",
              "          '<a target=\"_blank\" href=https://colab.research.google.com/notebooks/data_table.ipynb>data table notebook</a>'\n",
              "          + ' to learn more about interactive tables.';\n",
              "        element.innerHTML = '';\n",
              "        dataTable['output_type'] = 'display_data';\n",
              "        await google.colab.output.renderOutput(dataTable, element);\n",
              "        const docLink = document.createElement('div');\n",
              "        docLink.innerHTML = docLinkHtml;\n",
              "        element.appendChild(docLink);\n",
              "      }\n",
              "    </script>\n",
              "  </div>\n",
              "\n",
              "\n",
              "<div id=\"df-31b9d640-f92b-4fa9-87d4-9131be381536\">\n",
              "  <button class=\"colab-df-quickchart\" onclick=\"quickchart('df-31b9d640-f92b-4fa9-87d4-9131be381536')\"\n",
              "            title=\"Suggest charts\"\n",
              "            style=\"display:none;\">\n",
              "\n",
              "<svg xmlns=\"http://www.w3.org/2000/svg\" height=\"24px\"viewBox=\"0 0 24 24\"\n",
              "     width=\"24px\">\n",
              "    <g>\n",
              "        <path d=\"M19 3H5c-1.1 0-2 .9-2 2v14c0 1.1.9 2 2 2h14c1.1 0 2-.9 2-2V5c0-1.1-.9-2-2-2zM9 17H7v-7h2v7zm4 0h-2V7h2v10zm4 0h-2v-4h2v4z\"/>\n",
              "    </g>\n",
              "</svg>\n",
              "  </button>\n",
              "\n",
              "<style>\n",
              "  .colab-df-quickchart {\n",
              "      --bg-color: #E8F0FE;\n",
              "      --fill-color: #1967D2;\n",
              "      --hover-bg-color: #E2EBFA;\n",
              "      --hover-fill-color: #174EA6;\n",
              "      --disabled-fill-color: #AAA;\n",
              "      --disabled-bg-color: #DDD;\n",
              "  }\n",
              "\n",
              "  [theme=dark] .colab-df-quickchart {\n",
              "      --bg-color: #3B4455;\n",
              "      --fill-color: #D2E3FC;\n",
              "      --hover-bg-color: #434B5C;\n",
              "      --hover-fill-color: #FFFFFF;\n",
              "      --disabled-bg-color: #3B4455;\n",
              "      --disabled-fill-color: #666;\n",
              "  }\n",
              "\n",
              "  .colab-df-quickchart {\n",
              "    background-color: var(--bg-color);\n",
              "    border: none;\n",
              "    border-radius: 50%;\n",
              "    cursor: pointer;\n",
              "    display: none;\n",
              "    fill: var(--fill-color);\n",
              "    height: 32px;\n",
              "    padding: 0;\n",
              "    width: 32px;\n",
              "  }\n",
              "\n",
              "  .colab-df-quickchart:hover {\n",
              "    background-color: var(--hover-bg-color);\n",
              "    box-shadow: 0 1px 2px rgba(60, 64, 67, 0.3), 0 1px 3px 1px rgba(60, 64, 67, 0.15);\n",
              "    fill: var(--button-hover-fill-color);\n",
              "  }\n",
              "\n",
              "  .colab-df-quickchart-complete:disabled,\n",
              "  .colab-df-quickchart-complete:disabled:hover {\n",
              "    background-color: var(--disabled-bg-color);\n",
              "    fill: var(--disabled-fill-color);\n",
              "    box-shadow: none;\n",
              "  }\n",
              "\n",
              "  .colab-df-spinner {\n",
              "    border: 2px solid var(--fill-color);\n",
              "    border-color: transparent;\n",
              "    border-bottom-color: var(--fill-color);\n",
              "    animation:\n",
              "      spin 1s steps(1) infinite;\n",
              "  }\n",
              "\n",
              "  @keyframes spin {\n",
              "    0% {\n",
              "      border-color: transparent;\n",
              "      border-bottom-color: var(--fill-color);\n",
              "      border-left-color: var(--fill-color);\n",
              "    }\n",
              "    20% {\n",
              "      border-color: transparent;\n",
              "      border-left-color: var(--fill-color);\n",
              "      border-top-color: var(--fill-color);\n",
              "    }\n",
              "    30% {\n",
              "      border-color: transparent;\n",
              "      border-left-color: var(--fill-color);\n",
              "      border-top-color: var(--fill-color);\n",
              "      border-right-color: var(--fill-color);\n",
              "    }\n",
              "    40% {\n",
              "      border-color: transparent;\n",
              "      border-right-color: var(--fill-color);\n",
              "      border-top-color: var(--fill-color);\n",
              "    }\n",
              "    60% {\n",
              "      border-color: transparent;\n",
              "      border-right-color: var(--fill-color);\n",
              "    }\n",
              "    80% {\n",
              "      border-color: transparent;\n",
              "      border-right-color: var(--fill-color);\n",
              "      border-bottom-color: var(--fill-color);\n",
              "    }\n",
              "    90% {\n",
              "      border-color: transparent;\n",
              "      border-bottom-color: var(--fill-color);\n",
              "    }\n",
              "  }\n",
              "</style>\n",
              "\n",
              "  <script>\n",
              "    async function quickchart(key) {\n",
              "      const quickchartButtonEl =\n",
              "        document.querySelector('#' + key + ' button');\n",
              "      quickchartButtonEl.disabled = true;  // To prevent multiple clicks.\n",
              "      quickchartButtonEl.classList.add('colab-df-spinner');\n",
              "      try {\n",
              "        const charts = await google.colab.kernel.invokeFunction(\n",
              "            'suggestCharts', [key], {});\n",
              "      } catch (error) {\n",
              "        console.error('Error during call to suggestCharts:', error);\n",
              "      }\n",
              "      quickchartButtonEl.classList.remove('colab-df-spinner');\n",
              "      quickchartButtonEl.classList.add('colab-df-quickchart-complete');\n",
              "    }\n",
              "    (() => {\n",
              "      let quickchartButtonEl =\n",
              "        document.querySelector('#df-31b9d640-f92b-4fa9-87d4-9131be381536 button');\n",
              "      quickchartButtonEl.style.display =\n",
              "        google.colab.kernel.accessAllowed ? 'block' : 'none';\n",
              "    })();\n",
              "  </script>\n",
              "</div>\n",
              "    </div>\n",
              "  </div>\n"
            ],
            "application/vnd.google.colaboratory.intrinsic+json": {
              "type": "dataframe",
              "variable_name": "csv",
              "summary": "{\n  \"name\": \"csv\",\n  \"rows\": 6656,\n  \"fields\": [\n    {\n      \"column\": \"audio_filepath\",\n      \"properties\": {\n        \"dtype\": \"string\",\n        \"num_unique_values\": 6656,\n        \"samples\": [\n          \"audio/281474976883951_f2089_chunk_2.wav\",\n          \"audio/281474976925480_f2439_chunk_0.wav\",\n          \"audio/281474976897398_f3281_chunk_10.wav\"\n        ],\n        \"semantic_type\": \"\",\n        \"description\": \"\"\n      }\n    },\n    {\n      \"column\": \"duration\",\n      \"properties\": {\n        \"dtype\": \"number\",\n        \"std\": 4.568625235827032,\n        \"min\": 0.098,\n        \"max\": 29.8710625,\n        \"num_unique_values\": 6089,\n        \"samples\": [\n          3.63725,\n          4.40275,\n          17.6233125\n        ],\n        \"semantic_type\": \"\",\n        \"description\": \"\"\n      }\n    },\n    {\n      \"column\": \"text\",\n      \"properties\": {\n        \"dtype\": \"string\",\n        \"num_unique_values\": 5585,\n        \"samples\": [\n          \"mostly farming or the farmers stays in rural areas and\",\n          \"Show list of all vaccine center\",\n          \"Clara\"\n        ],\n        \"semantic_type\": \"\",\n        \"description\": \"\"\n      }\n    },\n    {\n      \"column\": \"gender\",\n      \"properties\": {\n        \"dtype\": \"category\",\n        \"num_unique_values\": 2,\n        \"samples\": [\n          \"Male\",\n          \"Female\"\n        ],\n        \"semantic_type\": \"\",\n        \"description\": \"\"\n      }\n    },\n    {\n      \"column\": \"age-group\",\n      \"properties\": {\n        \"dtype\": \"category\",\n        \"num_unique_values\": 4,\n        \"samples\": [\n          \"45-60\",\n          \"60+\"\n        ],\n        \"semantic_type\": \"\",\n        \"description\": \"\"\n      }\n    },\n    {\n      \"column\": \"primary_language\",\n      \"properties\": {\n        \"dtype\": \"category\",\n        \"num_unique_values\": 19,\n        \"samples\": [\n          \"Urdu\",\n          \"Tamil\"\n        ],\n        \"semantic_type\": \"\",\n        \"description\": \"\"\n      }\n    },\n    {\n      \"column\": \"native_place_state\",\n      \"properties\": {\n        \"dtype\": \"category\",\n        \"num_unique_values\": 17,\n        \"samples\": [\n          \"Karnataka\",\n          \"Odisha\"\n        ],\n        \"semantic_type\": \"\",\n        \"description\": \"\"\n      }\n    },\n    {\n      \"column\": \"native_place_district\",\n      \"properties\": {\n        \"dtype\": \"category\",\n        \"num_unique_values\": 65,\n        \"samples\": [\n          \"Rupnagar\",\n          \"Madhubani\"\n        ],\n        \"semantic_type\": \"\",\n        \"description\": \"\"\n      }\n    },\n    {\n      \"column\": \"highest_qualification\",\n      \"properties\": {\n        \"dtype\": \"category\",\n        \"num_unique_values\": 6,\n        \"samples\": [\n          \"Post Graduate\",\n          \"Graduate\"\n        ],\n        \"semantic_type\": \"\",\n        \"description\": \"\"\n      }\n    },\n    {\n      \"column\": \"job_category\",\n      \"properties\": {\n        \"dtype\": \"category\",\n        \"num_unique_values\": 4,\n        \"samples\": [\n          \"Other\",\n          \"Freelance\"\n        ],\n        \"semantic_type\": \"\",\n        \"description\": \"\"\n      }\n    },\n    {\n      \"column\": \"occupation_domain\",\n      \"properties\": {\n        \"dtype\": \"category\",\n        \"num_unique_values\": 11,\n        \"samples\": [\n          \"Financial Services (Banking and Insurance)\",\n          \"Education and Research\"\n        ],\n        \"semantic_type\": \"\",\n        \"description\": \"\"\n      }\n    }\n  ]\n}"
            }
          },
          "metadata": {},
          "execution_count": 202
        }
      ],
      "source": [
        "csv = pd.read_csv(\"/content/svarah/svarah/meta_speaker_stats.csv\")\n",
        "csv.head()"
      ]
    },
    {
      "cell_type": "code",
      "execution_count": 203,
      "metadata": {
        "id": "wSK5KgF5Xffo"
      },
      "outputs": [],
      "source": [
        "audio_csv = pd.DataFrame(csv.loc[:, 'audio_filepath'])"
      ]
    },
    {
      "cell_type": "code",
      "execution_count": 204,
      "metadata": {
        "id": "xccBJfEbYJQr"
      },
      "outputs": [],
      "source": [
        "def extract_speaker_id(filepath):\n",
        "    parts = filepath.split('/')\n",
        "    speaker_id = parts[1].split('_')[0]\n",
        "    return speaker_id\n",
        "\n",
        "# Apply the function to all rows of the DataFrame\n",
        "audio_csv['speaker_id'] = audio_csv['audio_filepath'].apply(extract_speaker_id)\n",
        "speaker_ids = audio_csv['speaker_id'].unique()"
      ]
    },
    {
      "cell_type": "code",
      "execution_count": 205,
      "metadata": {
        "colab": {
          "base_uri": "https://localhost:8080/"
        },
        "id": "aKCAX56_c5k-",
        "outputId": "f5da247f-86f3-4b22-bd27-0ec8a67da04c"
      },
      "outputs": [
        {
          "output_type": "stream",
          "name": "stdout",
          "text": [
            "Speaker IDs with more than 20 samples:\n",
            "['281474976883943', '281474976884044', '281474976884082', '281474976884085', '281474976884478', '281474976885796', '281474976885801', '281474976888866', '281474976888873', '281474976888909', '281474976888911', '281474976888914', '281474976888917', '281474976888919', '281474976889220', '281474976894268', '281474976894271', '281474976894273', '281474976894795', '281474976897307', '281474976897459', '281474976900596', '281474976900603']\n"
          ]
        }
      ],
      "source": [
        "audio_csv['speaker_id'] = audio_csv['audio_filepath'].str.split('_').str[0].str.split('/').str[1]\n",
        "\n",
        "# Group by speaker ID and count occurrences\n",
        "speaker_counts = audio_csv.groupby('speaker_id').size()\n",
        "\n",
        "# Filter speaker IDs with more than 15 samples\n",
        "subsampled_sid = speaker_counts[speaker_counts > 20].index.tolist()\n",
        "\n",
        "print(\"Speaker IDs with more than 20 samples:\")\n",
        "print(subsampled_sid)\n",
        "\n",
        "# Filter DataFrame to keep only rows with matching speaker IDs\n",
        "sub_df = audio_csv[audio_csv['speaker_id'].isin(subsampled_sid)]"
      ]
    },
    {
      "cell_type": "code",
      "execution_count": 206,
      "metadata": {
        "id": "6uqG05ND1F0x"
      },
      "outputs": [],
      "source": [
        "mapping = {val: idx + 1 for idx, val in enumerate(set(subsampled_sid))}"
      ]
    },
    {
      "cell_type": "markdown",
      "metadata": {
        "id": "ujXoQ4yvFJTc"
      },
      "source": [
        "# Audio PreProcessing"
      ]
    },
    {
      "cell_type": "code",
      "execution_count": 207,
      "metadata": {
        "id": "PnlMJau4GYjL"
      },
      "outputs": [],
      "source": [
        "import numpy as np\n",
        "from scipy import signal\n",
        "\n",
        "import numpy as np\n",
        "import librosa\n",
        "from scipy import signal\n",
        "\n",
        "def preprocess_audio_mfcc(wav_file, sr=16000, n_fft=48, hop_length=256, n_mels=12):\n",
        "  # Load audio using librosa (assumes WAV format)\n",
        "  wav, _ = librosa.load(wav_file, sr=sr)\n",
        "\n",
        "  # Frame division with overlap\n",
        "  frames = librosa.util.frame(wav, frame_length=n_fft, hop_length=hop_length)\n",
        "\n",
        "  # Apply window function (Hamming window by default)\n",
        "  window = librosa.filters.get_window('hann', n_fft)\n",
        "  window = window.reshape(-1, 1)  # Reshape to have one column\n",
        "  windowed_frames = frames * window\n",
        "\n",
        "  # FFT transformation\n",
        "  fft_frames = np.fft.fft(windowed_frames, axis=1)\n",
        "  # Compute MFCC features (using log-magnitude spectrum for stability)\n",
        "  mfcc_features = librosa.feature.mfcc(y=np.abs(fft_frames), sr=sr, n_mels=n_mels, n_fft=n_fft)\n",
        "\n",
        "  mfcc_features = np.mean(mfcc_features, axis=2)\n",
        "  mfcc_features = np.mean(mfcc_features, axis=0)\n",
        "\n",
        "  # Chroma_stft mean and variance\n",
        "  chroma_mean = np.mean(librosa.feature.chroma_stft(y=wav, sr=sr), axis=1)\n",
        "  chroma_var = np.var(librosa.feature.chroma_stft(y=wav, sr=sr), axis=1)\n",
        "\n",
        "  # RMS mean and variance\n",
        "  rms_mean = np.mean(librosa.feature.rms(y=wav))\n",
        "  rms_var = np.var(librosa.feature.rms(y=wav))\n",
        "\n",
        "  # Concatenate all features\n",
        "  features = np.concatenate([mfcc_features , chroma_mean, chroma_var, [rms_mean], [rms_var]])\n",
        "\n",
        "  return features\n",
        "\n",
        "def extract_features(speaker_id=None, file=None):\n",
        "  features = preprocess_audio_mfcc(file)\n",
        "\n",
        "  filename = os.path.basename(file)\n",
        "\n",
        "  df = pd.DataFrame(columns=['speaker_id'] + ['filename'] + [f'feature_{i}' for i in range(1, len(features)+1)])\n",
        "\n",
        "  # Add data to DataFrame\n",
        "  df.loc[0, 'speaker_id'] = speaker_id\n",
        "  df.loc[0, 'filename'] = filename\n",
        "  df.loc[0, 'feature_1':] = features\n",
        "\n",
        "  return df"
      ]
    },
    {
      "cell_type": "code",
      "execution_count": 208,
      "metadata": {
        "colab": {
          "base_uri": "https://localhost:8080/"
        },
        "id": "f1UKeuyVU0CX",
        "outputId": "3c73ca22-2582-4127-d30f-d2c87940f797"
      },
      "outputs": [
        {
          "output_type": "stream",
          "name": "stdout",
          "text": [
            "1/23 Extracted\n",
            "2/23 Extracted\n",
            "3/23 Extracted\n",
            "4/23 Extracted\n",
            "5/23 Extracted\n",
            "6/23 Extracted\n",
            "7/23 Extracted\n",
            "8/23 Extracted\n",
            "9/23 Extracted\n",
            "10/23 Extracted\n",
            "11/23 Extracted\n",
            "12/23 Extracted\n",
            "13/23 Extracted\n",
            "14/23 Extracted\n",
            "15/23 Extracted\n"
          ]
        },
        {
          "output_type": "stream",
          "name": "stderr",
          "text": [
            "/usr/local/lib/python3.10/dist-packages/librosa/core/spectrum.py:257: UserWarning: n_fft=48 is too large for input signal of length=30\n",
            "  warnings.warn(\n"
          ]
        },
        {
          "output_type": "stream",
          "name": "stdout",
          "text": [
            "16/23 Extracted\n",
            "17/23 Extracted\n",
            "18/23 Extracted\n",
            "19/23 Extracted\n",
            "20/23 Extracted\n",
            "21/23 Extracted\n",
            "22/23 Extracted\n",
            "23/23 Extracted\n"
          ]
        }
      ],
      "source": [
        "df_list = []\n",
        "\n",
        "for i, sid in enumerate(subsampled_sid):\n",
        "  audio_df = pd.DataFrame()\n",
        "  speaker_df = sub_df[sub_df['speaker_id'] == sid]\n",
        "\n",
        "  speaker_id = mapping.get(sid)\n",
        "\n",
        "  # Iterate over filtered DataFrame and extract features from each audio file\n",
        "  for index, row in speaker_df.iterrows():\n",
        "    audio_file = os.path.join(\"/content/svarah/svarah\", row['audio_filepath'])\n",
        "    features = extract_features(speaker_id, audio_file)\n",
        "    audio_df = pd.concat([audio_df, features], ignore_index=True)\n",
        "\n",
        "  print(f\"{i+1}/{len(subsampled_sid)} Extracted\")\n",
        "  df_list.append(audio_df)"
      ]
    },
    {
      "cell_type": "markdown",
      "metadata": {
        "id": "h33WUka-Svyk"
      },
      "source": [
        "## Split the dataset"
      ]
    },
    {
      "cell_type": "code",
      "execution_count": 209,
      "metadata": {
        "id": "8RgciR6AMuZi"
      },
      "outputs": [],
      "source": [
        "from sklearn.model_selection import train_test_split\n",
        "\n",
        "trained_dfs = []\n",
        "test_dfs = []\n",
        "\n",
        "for df in df_list:\n",
        "  train, test = train_test_split(df, test_size=0.2, random_state=42, shuffle=False)\n",
        "  train_df = pd.DataFrame(train)\n",
        "  test_df = pd.DataFrame(test)\n",
        "\n",
        "  trained_dfs.append(train_df)\n",
        "  test_dfs.append(test_df)"
      ]
    },
    {
      "cell_type": "markdown",
      "metadata": {
        "id": "DToltmjaMrU4"
      },
      "source": [
        "## Train the model"
      ]
    },
    {
      "cell_type": "code",
      "execution_count": 210,
      "metadata": {
        "colab": {
          "base_uri": "https://localhost:8080/"
        },
        "id": "hv4IZirbNxf9",
        "outputId": "0f0bd15f-f2f7-4589-e28d-3a07267354fa"
      },
      "outputs": [
        {
          "output_type": "stream",
          "name": "stdout",
          "text": [
            "GMM model saved for speaker ID 16 as /content/models/16_gmm.pkl\n",
            "GMM model saved for speaker ID 17 as /content/models/17_gmm.pkl\n",
            "GMM model saved for speaker ID 9 as /content/models/9_gmm.pkl\n",
            "GMM model saved for speaker ID 4 as /content/models/4_gmm.pkl\n",
            "GMM model saved for speaker ID 18 as /content/models/18_gmm.pkl\n",
            "GMM model saved for speaker ID 23 as /content/models/23_gmm.pkl\n",
            "GMM model saved for speaker ID 15 as /content/models/15_gmm.pkl\n",
            "GMM model saved for speaker ID 22 as /content/models/22_gmm.pkl\n",
            "GMM model saved for speaker ID 6 as /content/models/6_gmm.pkl\n",
            "GMM model saved for speaker ID 7 as /content/models/7_gmm.pkl\n",
            "GMM model saved for speaker ID 21 as /content/models/21_gmm.pkl\n",
            "GMM model saved for speaker ID 20 as /content/models/20_gmm.pkl\n",
            "GMM model saved for speaker ID 19 as /content/models/19_gmm.pkl\n",
            "GMM model saved for speaker ID 12 as /content/models/12_gmm.pkl\n",
            "GMM model saved for speaker ID 13 as /content/models/13_gmm.pkl\n",
            "GMM model saved for speaker ID 10 as /content/models/10_gmm.pkl\n",
            "GMM model saved for speaker ID 11 as /content/models/11_gmm.pkl\n",
            "GMM model saved for speaker ID 1 as /content/models/1_gmm.pkl\n",
            "GMM model saved for speaker ID 3 as /content/models/3_gmm.pkl\n",
            "GMM model saved for speaker ID 8 as /content/models/8_gmm.pkl\n",
            "GMM model saved for speaker ID 14 as /content/models/14_gmm.pkl\n",
            "GMM model saved for speaker ID 2 as /content/models/2_gmm.pkl\n",
            "GMM model saved for speaker ID 5 as /content/models/5_gmm.pkl\n"
          ]
        }
      ],
      "source": [
        "import pandas as pd\n",
        "from sklearn.mixture import GaussianMixture\n",
        "import joblib\n",
        "\n",
        "os.makedirs(\"/content/models\", exist_ok=True)\n",
        "\n",
        "save_dir = \"/content/models\"\n",
        "# Function to train GMM for each speaker\n",
        "def train_gmm_for_speakers(dfs, subsampled_sid):\n",
        "    for df in trained_dfs:\n",
        "        speaker_id = df['speaker_id'][0]\n",
        "        mfcc_features = df.drop(columns=['filename', 'speaker_id'])  # Assuming 'speaker_id' is a column to drop\n",
        "\n",
        "        # print(mfcc_features)\n",
        "\n",
        "        # Train GMM\n",
        "        gmm = GaussianMixture(n_components=10)  # Adjust the number of components as needed\n",
        "        gmm.fit(mfcc_features)\n",
        "\n",
        "        # Save trained GMM model\n",
        "        model_filename = f'{save_dir}/{speaker_id}_gmm.pkl'\n",
        "        joblib.dump(gmm, model_filename)\n",
        "        print(f\"GMM model saved for speaker ID {speaker_id} as {model_filename}\")\n",
        "\n",
        "\n",
        "# Train GMM for each speaker and save the models\n",
        "train_gmm_for_speakers(trained_dfs, subsampled_sid)"
      ]
    },
    {
      "cell_type": "markdown",
      "metadata": {
        "id": "oWnsZE61O9kV"
      },
      "source": [
        "## Evaluate"
      ]
    },
    {
      "cell_type": "code",
      "execution_count": 211,
      "metadata": {
        "id": "8Mavsu-rRMDq"
      },
      "outputs": [],
      "source": [
        "speakers_models = os.listdir(\"/content/models/\")"
      ]
    },
    {
      "cell_type": "code",
      "execution_count": 217,
      "metadata": {
        "colab": {
          "base_uri": "https://localhost:8080/"
        },
        "id": "7jZrSuyUO_A-",
        "outputId": "92d236fe-3e58-4bc2-dcd5-de1755616fd1"
      },
      "outputs": [
        {
          "output_type": "stream",
          "name": "stdout",
          "text": [
            "EER for 16_gmm.pkl: 0.5000%\n",
            "EER for 17_gmm.pkl: 0.2727%\n",
            "EER for 19_gmm.pkl: 0.6591%\n",
            "EER for 4_gmm.pkl: 0.4545%\n",
            "EER for 18_gmm.pkl: 0.0000%\n",
            "EER for 23_gmm.pkl: 0.3636%\n",
            "EER for 15_gmm.pkl: 0.3636%\n",
            "EER for 22_gmm.pkl: 0.3409%\n",
            "EER for 6_gmm.pkl: 0.0909%\n",
            "EER for 17_gmm.pkl: 0.7500%\n",
            "EER for 21_gmm.pkl: 0.0909%\n",
            "EER for 20_gmm.pkl: 0.1136%\n",
            "EER for 19_gmm.pkl: 0.1818%\n",
            "EER for 12_gmm.pkl: 0.1591%\n",
            "EER for 13_gmm.pkl: 0.4545%\n",
            "EER for 10_gmm.pkl: 0.2727%\n",
            "EER for 11_gmm.pkl: 0.2955%\n",
            "EER for 15_gmm.pkl: 0.8409%\n",
            "EER for 13_gmm.pkl: 0.9318%\n",
            "EER for 18_gmm.pkl: 0.0000%\n",
            "EER for 14_gmm.pkl: 0.4318%\n",
            "EER for 12_gmm.pkl: 0.1591%\n",
            "EER for 15_gmm.pkl: 0.8409%\n"
          ]
        }
      ],
      "source": [
        "fars = []\n",
        "frrs = []\n",
        "\n",
        "model_ids = []\n",
        "eers = []\n",
        "\n",
        "threshold = -38000000\n",
        "\n",
        "for i, gdf in enumerate(test_dfs):\n",
        "  frr, far = 0, 0\n",
        "\n",
        "  genuine_speaker_id = gdf['speaker_id'].iloc[0]\n",
        "  genuine_features = gdf.drop(columns=['filename', 'speaker_id'])\n",
        "\n",
        "  model_ids.append(genuine_speaker_id)\n",
        "  # print(genuine_speaker_id)\n",
        "  for model in speakers_models:\n",
        "    if str(genuine_speaker_id) in model:\n",
        "      gmm = model\n",
        "      break\n",
        "\n",
        "  # Check for false rejection rate\n",
        "  gmm = joblib.load(os.path.join(\"/content/models\", gmm))\n",
        "\n",
        "  # print(genuine_features.iloc[0])\n",
        "  score = gmm.score_samples(genuine_features).mean()\n",
        "\n",
        "  if score < threshold:\n",
        "    frr += 1\n",
        "\n",
        "  for j, idf in enumerate(test_dfs):\n",
        "    if i != j:  # Skip the index of the first loop item\n",
        "      imp_speaker_id = idf['speaker_id']\n",
        "      imp_features = idf.drop(columns=['filename', 'speaker_id'])\n",
        "\n",
        "       # print(genuine_features.iloc[0])\n",
        "      iscore = gmm.score_samples(imp_features).mean()\n",
        "\n",
        "      if iscore < threshold:\n",
        "        far += 1\n",
        "\n",
        "  far = far / (len(test_dfs) - 1)\n",
        "  eer = (far + frr) / 2\n",
        "\n",
        "  eers.append(eer)\n",
        "\n",
        "  print(f\"EER for {model}: {eer:0.4f}%\")"
      ]
    },
    {
      "cell_type": "code",
      "source": [
        "import re\n",
        "import matplotlib.pyplot as plt\n",
        "\n",
        "indices = np.arange(len(model_ids))\n",
        "# Create a bar plot\n",
        "plt.figure(figsize=(7, 5))\n",
        "plt.plot(indices, eers, marker='o', color='lightcoral', linestyle='-')\n",
        "plt.xlabel('Model Index')\n",
        "plt.ylabel('EER (%)')\n",
        "plt.title('Equal Error Rates (EERs) for Different Models')\n",
        "plt.xticks(indices, model_ids, rotation=90)  # Set model names as x-axis labels\n",
        "plt.tight_layout()  # Adjust layout to prevent clipping of labels\n",
        "plt.grid(True)  # Add grid lines for better readability\n",
        "plt.show()\n"
      ],
      "metadata": {
        "colab": {
          "base_uri": "https://localhost:8080/",
          "height": 507
        },
        "id": "KIfuCuwnZTrx",
        "outputId": "59f0e317-f1f7-49a3-f609-3713d0080c97"
      },
      "execution_count": 224,
      "outputs": [
        {
          "output_type": "display_data",
          "data": {
            "text/plain": [
              "<Figure size 700x500 with 1 Axes>"
            ],
            "image/png": "[encoded data removed]"
          },
          "metadata": {}
        }
      ]
    },
    {
      "cell_type": "markdown",
      "metadata": {
        "id": "eVycusVLQu-g"
      },
      "source": [
        "## Authentication"
      ]
    },
    {
      "cell_type": "markdown",
      "metadata": {
        "id": "G1OLcBl_KH7r"
      },
      "source": [
        "# MAP"
      ]
    },
    {
      "cell_type": "code",
      "execution_count": 255,
      "metadata": {
        "colab": {
          "base_uri": "https://localhost:8080/"
        },
        "id": "mBVB_iYcGjrk",
        "outputId": "b09ae044-8e92-4dd7-f6d8-020fbccb640a"
      },
      "outputs": [
        {
          "output_type": "stream",
          "name": "stdout",
          "text": [
            "Predicted Speaker ID: 16\n",
            "Original Speaker ID: 16\n",
            "Predicted Speaker ID: 22\n",
            "Original Speaker ID: 22\n"
          ]
        }
      ],
      "source": [
        "def map_estimation(gmm_models, features):\n",
        "    log_likelihood_speakers = np.zeros(len(gmm_models))\n",
        "    model_names = []\n",
        "\n",
        "    # Calculate log likelihoods for each speaker model\n",
        "    for i, gmm in enumerate(gmm_models):\n",
        "\n",
        "        if gmm.endswith(\".pkl\"):\n",
        "          model_names.append(gmm)\n",
        "          gmm = joblib.load(os.path.join(\"/content/models\", gmm))\n",
        "          scores = gmm.score(features)\n",
        "          # print(scores)\n",
        "          log_likelihood_speakers[i] = scores.sum()\n",
        "\n",
        "    # Compute prior probabilities (assuming uniform priors)\n",
        "    prior_probabilities = np.ones(len(gmm_models)) / len(gmm_models)\n",
        "\n",
        "    # Compute posterior probabilities using Bayes' theorem\n",
        "    log_posterior_probabilities = log_likelihood_speakers + np.log(prior_probabilities)\n",
        "\n",
        "    # Get the predicted speaker ID with the maximum posterior probability\n",
        "    predicted_index = np.argmax(log_posterior_probabilities)\n",
        "    max_posterior_probability = log_posterior_probabilities[predicted_index]\n",
        "    predicted_speaker = model_names[predicted_index].split(\"_\")[0]\n",
        "\n",
        "    return predicted_speaker\n",
        "\n",
        "\n",
        "def predidc(filename):\n",
        "  auth_audio_file = os.path.join(\"/content/svarah/svarah/audio\", file_name)\n",
        "  # auth_audio, _ = torchaudio.load(auth_audio_file)\n",
        "  auth_ext_feat = extract_features(file=auth_audio_file)\n",
        "  auth_ext_feat = auth_ext_feat.drop(columns=['filename', 'speaker_id'])\n",
        "  prediction_speaker = map_estimation(speakers_models, auth_ext_feat)\n",
        "\n",
        "  map = file_name.split(\"_\")[0]\n",
        "\n",
        "  return [prediction_speaker, mapping.get(map)]\n",
        "\n",
        "file_name = \"281474976883943_f2231_chunk_2.wav\"\n",
        "result = predidc(file_name)\n",
        "print(f\"Predicted Speaker ID: {result[0]}\\nOriginal Speaker ID: {result[1]}\")\n",
        "\n",
        "file_name = \"281474976888866_f2195_chunk_16.wav\"\n",
        "result = predidc(file_name)\n",
        "print(f\"Predicted Speaker ID: {result[0]}\\nOriginal Speaker ID: {result[1]}\")"
      ]
    },
    {
      "cell_type": "markdown",
      "metadata": {
        "id": "v2XDqy1bSqsD"
      },
      "source": [
        "## Enrollement"
      ]
    },
    {
      "cell_type": "code",
      "source": [
        "enroll_df = audio_csv[audio_csv['speaker_id']==\"281474976895472\"]\n",
        "enroll_df.head()"
      ],
      "metadata": {
        "colab": {
          "base_uri": "https://localhost:8080/",
          "height": 112
        },
        "id": "eUpZyG9KTov1",
        "outputId": "96299eb7-dcbc-417c-c17f-45ecffcd6709"
      },
      "execution_count": 214,
      "outputs": [
        {
          "output_type": "execute_result",
          "data": {
            "text/plain": [
              "                            audio_filepath       speaker_id\n",
              "0    audio/281474976895472_f74_chunk_0.wav  281474976895472\n",
              "3  audio/281474976895472_f2996_chunk_0.wav  281474976895472"
            ],
            "text/html": [
              "\n",
              "  <div id=\"df-ec515ca1-abc1-4479-9b7c-28ce407364ba\" class=\"colab-df-container\">\n",
              "    <div>\n",
              "<style scoped>\n",
              "    .dataframe tbody tr th:only-of-type {\n",
              "        vertical-align: middle;\n",
              "    }\n",
              "\n",
              "    .dataframe tbody tr th {\n",
              "        vertical-align: top;\n",
              "    }\n",
              "\n",
              "    .dataframe thead th {\n",
              "        text-align: right;\n",
              "    }\n",
              "</style>\n",
              "<table border=\"1\" class=\"dataframe\">\n",
              "  <thead>\n",
              "    <tr style=\"text-align: right;\">\n",
              "      <th></th>\n",
              "      <th>audio_filepath</th>\n",
              "      <th>speaker_id</th>\n",
              "    </tr>\n",
              "  </thead>\n",
              "  <tbody>\n",
              "    <tr>\n",
              "      <th>0</th>\n",
              "      <td>audio/281474976895472_f74_chunk_0.wav</td>\n",
              "      <td>281474976895472</td>\n",
              "    </tr>\n",
              "    <tr>\n",
              "      <th>3</th>\n",
              "      <td>audio/281474976895472_f2996_chunk_0.wav</td>\n",
              "      <td>281474976895472</td>\n",
              "    </tr>\n",
              "  </tbody>\n",
              "</table>\n",
              "</div>\n",
              "    <div class=\"colab-df-buttons\">\n",
              "\n",
              "  <div class=\"colab-df-container\">\n",
              "    <button class=\"colab-df-convert\" onclick=\"convertToInteractive('df-ec515ca1-abc1-4479-9b7c-28ce407364ba')\"\n",
              "            title=\"Convert this dataframe to an interactive table.\"\n",
              "            style=\"display:none;\">\n",
              "\n",
              "  <svg xmlns=\"http://www.w3.org/2000/svg\" height=\"24px\" viewBox=\"0 -960 960 960\">\n",
              "    <path d=\"M120-120v-720h720v720H120Zm60-500h600v-160H180v160Zm220 220h160v-160H400v160Zm0 220h160v-160H400v160ZM180-400h160v-160H180v160Zm440 0h160v-160H620v160ZM180-180h160v-160H180v160Zm440 0h160v-160H620v160Z\"/>\n",
              "  </svg>\n",
              "    </button>\n",
              "\n",
              "  <style>\n",
              "    .colab-df-container {\n",
              "      display:flex;\n",
              "      gap: 12px;\n",
              "    }\n",
              "\n",
              "    .colab-df-convert {\n",
              "      background-color: #E8F0FE;\n",
              "      border: none;\n",
              "      border-radius: 50%;\n",
              "      cursor: pointer;\n",
              "      display: none;\n",
              "      fill: #1967D2;\n",
              "      height: 32px;\n",
              "      padding: 0 0 0 0;\n",
              "      width: 32px;\n",
              "    }\n",
              "\n",
              "    .colab-df-convert:hover {\n",
              "      background-color: #E2EBFA;\n",
              "      box-shadow: 0px 1px 2px rgba(60, 64, 67, 0.3), 0px 1px 3px 1px rgba(60, 64, 67, 0.15);\n",
              "      fill: #174EA6;\n",
              "    }\n",
              "\n",
              "    .colab-df-buttons div {\n",
              "      margin-bottom: 4px;\n",
              "    }\n",
              "\n",
              "    [theme=dark] .colab-df-convert {\n",
              "      background-color: #3B4455;\n",
              "      fill: #D2E3FC;\n",
              "    }\n",
              "\n",
              "    [theme=dark] .colab-df-convert:hover {\n",
              "      background-color: #434B5C;\n",
              "      box-shadow: 0px 1px 3px 1px rgba(0, 0, 0, 0.15);\n",
              "      filter: drop-shadow(0px 1px 2px rgba(0, 0, 0, 0.3));\n",
              "      fill: #FFFFFF;\n",
              "    }\n",
              "  </style>\n",
              "\n",
              "    <script>\n",
              "      const buttonEl =\n",
              "        document.querySelector('#df-ec515ca1-abc1-4479-9b7c-28ce407364ba button.colab-df-convert');\n",
              "      buttonEl.style.display =\n",
              "        google.colab.kernel.accessAllowed ? 'block' : 'none';\n",
              "\n",
              "      async function convertToInteractive(key) {\n",
              "        const element = document.querySelector('#df-ec515ca1-abc1-4479-9b7c-28ce407364ba');\n",
              "        const dataTable =\n",
              "          await google.colab.kernel.invokeFunction('convertToInteractive',\n",
              "                                                    [key], {});\n",
              "        if (!dataTable) return;\n",
              "\n",
              "        const docLinkHtml = 'Like what you see? Visit the ' +\n",
              "          '<a target=\"_blank\" href=https://colab.research.google.com/notebooks/data_table.ipynb>data table notebook</a>'\n",
              "          + ' to learn more about interactive tables.';\n",
              "        element.innerHTML = '';\n",
              "        dataTable['output_type'] = 'display_data';\n",
              "        await google.colab.output.renderOutput(dataTable, element);\n",
              "        const docLink = document.createElement('div');\n",
              "        docLink.innerHTML = docLinkHtml;\n",
              "        element.appendChild(docLink);\n",
              "      }\n",
              "    </script>\n",
              "  </div>\n",
              "\n",
              "\n",
              "<div id=\"df-2dacf87b-5a9d-41c9-8b9d-38713b251569\">\n",
              "  <button class=\"colab-df-quickchart\" onclick=\"quickchart('df-2dacf87b-5a9d-41c9-8b9d-38713b251569')\"\n",
              "            title=\"Suggest charts\"\n",
              "            style=\"display:none;\">\n",
              "\n",
              "<svg xmlns=\"http://www.w3.org/2000/svg\" height=\"24px\"viewBox=\"0 0 24 24\"\n",
              "     width=\"24px\">\n",
              "    <g>\n",
              "        <path d=\"M19 3H5c-1.1 0-2 .9-2 2v14c0 1.1.9 2 2 2h14c1.1 0 2-.9 2-2V5c0-1.1-.9-2-2-2zM9 17H7v-7h2v7zm4 0h-2V7h2v10zm4 0h-2v-4h2v4z\"/>\n",
              "    </g>\n",
              "</svg>\n",
              "  </button>\n",
              "\n",
              "<style>\n",
              "  .colab-df-quickchart {\n",
              "      --bg-color: #E8F0FE;\n",
              "      --fill-color: #1967D2;\n",
              "      --hover-bg-color: #E2EBFA;\n",
              "      --hover-fill-color: #174EA6;\n",
              "      --disabled-fill-color: #AAA;\n",
              "      --disabled-bg-color: #DDD;\n",
              "  }\n",
              "\n",
              "  [theme=dark] .colab-df-quickchart {\n",
              "      --bg-color: #3B4455;\n",
              "      --fill-color: #D2E3FC;\n",
              "      --hover-bg-color: #434B5C;\n",
              "      --hover-fill-color: #FFFFFF;\n",
              "      --disabled-bg-color: #3B4455;\n",
              "      --disabled-fill-color: #666;\n",
              "  }\n",
              "\n",
              "  .colab-df-quickchart {\n",
              "    background-color: var(--bg-color);\n",
              "    border: none;\n",
              "    border-radius: 50%;\n",
              "    cursor: pointer;\n",
              "    display: none;\n",
              "    fill: var(--fill-color);\n",
              "    height: 32px;\n",
              "    padding: 0;\n",
              "    width: 32px;\n",
              "  }\n",
              "\n",
              "  .colab-df-quickchart:hover {\n",
              "    background-color: var(--hover-bg-color);\n",
              "    box-shadow: 0 1px 2px rgba(60, 64, 67, 0.3), 0 1px 3px 1px rgba(60, 64, 67, 0.15);\n",
              "    fill: var(--button-hover-fill-color);\n",
              "  }\n",
              "\n",
              "  .colab-df-quickchart-complete:disabled,\n",
              "  .colab-df-quickchart-complete:disabled:hover {\n",
              "    background-color: var(--disabled-bg-color);\n",
              "    fill: var(--disabled-fill-color);\n",
              "    box-shadow: none;\n",
              "  }\n",
              "\n",
              "  .colab-df-spinner {\n",
              "    border: 2px solid var(--fill-color);\n",
              "    border-color: transparent;\n",
              "    border-bottom-color: var(--fill-color);\n",
              "    animation:\n",
              "      spin 1s steps(1) infinite;\n",
              "  }\n",
              "\n",
              "  @keyframes spin {\n",
              "    0% {\n",
              "      border-color: transparent;\n",
              "      border-bottom-color: var(--fill-color);\n",
              "      border-left-color: var(--fill-color);\n",
              "    }\n",
              "    20% {\n",
              "      border-color: transparent;\n",
              "      border-left-color: var(--fill-color);\n",
              "      border-top-color: var(--fill-color);\n",
              "    }\n",
              "    30% {\n",
              "      border-color: transparent;\n",
              "      border-left-color: var(--fill-color);\n",
              "      border-top-color: var(--fill-color);\n",
              "      border-right-color: var(--fill-color);\n",
              "    }\n",
              "    40% {\n",
              "      border-color: transparent;\n",
              "      border-right-color: var(--fill-color);\n",
              "      border-top-color: var(--fill-color);\n",
              "    }\n",
              "    60% {\n",
              "      border-color: transparent;\n",
              "      border-right-color: var(--fill-color);\n",
              "    }\n",
              "    80% {\n",
              "      border-color: transparent;\n",
              "      border-right-color: var(--fill-color);\n",
              "      border-bottom-color: var(--fill-color);\n",
              "    }\n",
              "    90% {\n",
              "      border-color: transparent;\n",
              "      border-bottom-color: var(--fill-color);\n",
              "    }\n",
              "  }\n",
              "</style>\n",
              "\n",
              "  <script>\n",
              "    async function quickchart(key) {\n",
              "      const quickchartButtonEl =\n",
              "        document.querySelector('#' + key + ' button');\n",
              "      quickchartButtonEl.disabled = true;  // To prevent multiple clicks.\n",
              "      quickchartButtonEl.classList.add('colab-df-spinner');\n",
              "      try {\n",
              "        const charts = await google.colab.kernel.invokeFunction(\n",
              "            'suggestCharts', [key], {});\n",
              "      } catch (error) {\n",
              "        console.error('Error during call to suggestCharts:', error);\n",
              "      }\n",
              "      quickchartButtonEl.classList.remove('colab-df-spinner');\n",
              "      quickchartButtonEl.classList.add('colab-df-quickchart-complete');\n",
              "    }\n",
              "    (() => {\n",
              "      let quickchartButtonEl =\n",
              "        document.querySelector('#df-2dacf87b-5a9d-41c9-8b9d-38713b251569 button');\n",
              "      quickchartButtonEl.style.display =\n",
              "        google.colab.kernel.accessAllowed ? 'block' : 'none';\n",
              "    })();\n",
              "  </script>\n",
              "</div>\n",
              "    </div>\n",
              "  </div>\n"
            ],
            "application/vnd.google.colaboratory.intrinsic+json": {
              "type": "dataframe",
              "variable_name": "enroll_df",
              "summary": "{\n  \"name\": \"enroll_df\",\n  \"rows\": 2,\n  \"fields\": [\n    {\n      \"column\": \"audio_filepath\",\n      \"properties\": {\n        \"dtype\": \"string\",\n        \"num_unique_values\": 2,\n        \"samples\": [\n          \"audio/281474976895472_f2996_chunk_0.wav\",\n          \"audio/281474976895472_f74_chunk_0.wav\"\n        ],\n        \"semantic_type\": \"\",\n        \"description\": \"\"\n      }\n    },\n    {\n      \"column\": \"speaker_id\",\n      \"properties\": {\n        \"dtype\": \"string\",\n        \"num_unique_values\": 1,\n        \"samples\": [\n          \"281474976895472\"\n        ],\n        \"semantic_type\": \"\",\n        \"description\": \"\"\n      }\n    }\n  ]\n}"
            }
          },
          "metadata": {},
          "execution_count": 214
        }
      ]
    },
    {
      "cell_type": "code",
      "source": [
        "enroll_id = max(mapping.values()) + 1\n",
        "\n",
        "audio_df = pd.DataFrame()\n",
        "\n",
        "for index, row in enroll_df.iterrows():\n",
        "  audio_file = os.path.join(\"/content/svarah/svarah\", row['audio_filepath'])\n",
        "\n",
        "  features = extract_features(enroll_id, audio_file)\n",
        "  audio_df = pd.concat([audio_df, features], ignore_index=True)\n",
        "\n",
        "enroll_features = audio_df.drop(columns=['filename', 'speaker_id'])\n",
        "# Train Gaussian Mixture Model (GMM)\n",
        "num_components = 2 # Example number of components\n",
        "gmm = GaussianMixture(n_components=num_components)\n",
        "gmm.fit(enroll_features)\n",
        "\n",
        "# Save the trained GMM model\n",
        "joblib.dump(gmm, f'/content/models/{enroll_id}_gmm_model.pkl')"
      ],
      "metadata": {
        "colab": {
          "base_uri": "https://localhost:8080/"
        },
        "id": "QR9UyxlAUtxm",
        "outputId": "d1a0cc2a-3187-4ce5-906a-417768d72f4f"
      },
      "execution_count": 215,
      "outputs": [
        {
          "output_type": "stream",
          "name": "stderr",
          "text": [
            "/usr/local/lib/python3.10/dist-packages/librosa/core/spectrum.py:257: UserWarning: n_fft=48 is too large for input signal of length=6\n",
            "  warnings.warn(\n",
            "/usr/local/lib/python3.10/dist-packages/librosa/core/spectrum.py:257: UserWarning: n_fft=2048 is too large for input signal of length=1568\n",
            "  warnings.warn(\n",
            "/usr/local/lib/python3.10/dist-packages/librosa/core/spectrum.py:257: UserWarning: n_fft=48 is too large for input signal of length=10\n",
            "  warnings.warn(\n"
          ]
        },
        {
          "output_type": "execute_result",
          "data": {
            "text/plain": [
              "['/content/models/24_gmm_model.pkl']"
            ]
          },
          "metadata": {},
          "execution_count": 215
        }
      ]
    }
  ],
  "metadata": {
    "colab": {
      "provenance": []
    },
    "kernelspec": {
      "display_name": "Python 3",
      "name": "python3"
    },
    "language_info": {
      "name": "python"
    }
  },
  "nbformat": 4,
  "nbformat_minor": 0
}